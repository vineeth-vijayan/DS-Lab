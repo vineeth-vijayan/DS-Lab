{
 "cells": [
  {
   "cell_type": "markdown",
   "id": "8e08ea6d",
   "metadata": {},
   "source": [
    "## Exercise 1"
   ]
  },
  {
   "cell_type": "markdown",
   "id": "03699da3",
   "metadata": {},
   "source": [
    "### Q1"
   ]
  },
  {
   "cell_type": "code",
   "execution_count": 3,
   "id": "201fc552",
   "metadata": {},
   "outputs": [],
   "source": [
    "import numpy as np"
   ]
  },
  {
   "cell_type": "code",
   "execution_count": 21,
   "id": "a4a94c09",
   "metadata": {},
   "outputs": [],
   "source": [
    "ar1 = np.array([1, 2, 3, 5, 7])\n",
    "ar2 = np.array([2, 3, 4, 5, 6])"
   ]
  },
  {
   "cell_type": "code",
   "execution_count": 33,
   "id": "b739a4c7",
   "metadata": {},
   "outputs": [
    {
     "name": "stdout",
     "output_type": "stream",
     "text": [
      "Array1:  [1 2 3 5 7]\n",
      "Array2:  [2 3 4 5 6]\n",
      "\n",
      "Array1 >  Array2:  [False False False False  True]\n",
      "Array1 >= Array2:  [False False False  True  True]\n",
      "Array1 <  Array2:  [ True  True  True False False]\n",
      "Array1 >= Array2:  [ True  True  True  True False]\n"
     ]
    }
   ],
   "source": [
    "print(\"Array1: \", ar1)\n",
    "print(\"Array2: \", ar2)\n",
    "print()\n",
    "\n",
    "print(\"Array1 >  Array2: \", np.greater(ar1,ar2))\n",
    "print(\"Array1 >= Array2: \", np.greater_equal(ar1, ar2))\n",
    "print(\"Array1 <  Array2: \", np.less(ar1, ar2))\n",
    "print(\"Array1 >= Array2: \", np.less_equal(ar1, ar2))"
   ]
  },
  {
   "cell_type": "markdown",
   "id": "0082645c",
   "metadata": {},
   "source": [
    "### Q2"
   ]
  },
  {
   "cell_type": "code",
   "execution_count": 36,
   "id": "dc87ae8b",
   "metadata": {},
   "outputs": [
    {
     "name": "stdout",
     "output_type": "stream",
     "text": [
      "Even integers from 30 to 70:  [30 32 34 36 38 40 42 44 46 48 50 52 54 56 58 60 62 64 66 68 70]\n"
     ]
    }
   ],
   "source": [
    "ar3 = np.arange(30,71,2)\n",
    "print(\"Even integers from 30 to 70: \", ar3)"
   ]
  },
  {
   "cell_type": "markdown",
   "id": "67ded419",
   "metadata": {},
   "source": [
    "### Q3"
   ]
  },
  {
   "cell_type": "code",
   "execution_count": 39,
   "id": "708c9c34",
   "metadata": {},
   "outputs": [
    {
     "name": "stdout",
     "output_type": "stream",
     "text": [
      "3x3 identity matrix: \n",
      " [[1. 0. 0.]\n",
      " [0. 1. 0.]\n",
      " [0. 0. 1.]]\n"
     ]
    }
   ],
   "source": [
    "print(\"3x3 identity matrix: \\n\", np.identity(3))"
   ]
  },
  {
   "cell_type": "markdown",
   "id": "4f940596",
   "metadata": {},
   "source": [
    "### Q4"
   ]
  },
  {
   "cell_type": "code",
   "execution_count": 45,
   "id": "005ba99a",
   "metadata": {},
   "outputs": [
    {
     "name": "stdout",
     "output_type": "stream",
     "text": [
      "Array: \n",
      " [ 0  1  2  3  4  5  6  7  8  9 10 11 12 13 14 15 16 17 18 19 20]\n",
      "After changing sign from (9,15): \n",
      " [  0   1   2   3   4   5   6   7   8  -9 -10 -11 -12 -13 -14 -15  16  17\n",
      "  18  19  20]\n"
     ]
    }
   ],
   "source": [
    "ar4 = np.arange(21)\n",
    "print(\"Array: \\n\", ar4)\n",
    "ar4[(ar4>=9) & (ar4<=15)] *= -1\n",
    "print(\"After changing sign from (9,15): \\n\", ar4)"
   ]
  },
  {
   "cell_type": "markdown",
   "id": "93ab5e8f",
   "metadata": {},
   "source": [
    "### Q5"
   ]
  },
  {
   "cell_type": "code",
   "execution_count": 56,
   "id": "255922bf",
   "metadata": {},
   "outputs": [
    {
     "name": "stdout",
     "output_type": "stream",
     "text": [
      "5x5 diagonal matrix: \n",
      " [[1 0 0 0 0]\n",
      " [0 2 0 0 0]\n",
      " [0 0 3 0 0]\n",
      " [0 0 0 4 0]\n",
      " [0 0 0 0 5]]\n"
     ]
    },
    {
     "data": {
      "text/plain": [
       "array([[0, 2, 0, 0, 0],\n",
       "       [0, 0, 3, 0, 0]])"
      ]
     },
     "execution_count": 56,
     "metadata": {},
     "output_type": "execute_result"
    }
   ],
   "source": [
    "ar5 = np.diag([1, 2, 3, 4, 5])\n",
    "print(\"5x5 diagonal matrix: \\n\", ar5)\n",
    "ar5[1:3]"
   ]
  },
  {
   "cell_type": "markdown",
   "id": "b339b922",
   "metadata": {},
   "source": [
    "### Q6"
   ]
  },
  {
   "cell_type": "code",
   "execution_count": 61,
   "id": "494dc2a0",
   "metadata": {},
   "outputs": [
    {
     "name": "stdout",
     "output_type": "stream",
     "text": [
      "Sum of all numpy array:  5.0\n",
      "Sum of all numpy array rows:  [1. 1. 1. 1. 1.]\n",
      "Sum of all numpy array columns:  [1. 1. 1. 1. 1.]\n"
     ]
    }
   ],
   "source": [
    "ar6 = np.identity(5)\n",
    "print(\"Sum of all numpy array: \", ar6.sum())\n",
    "print(\"Sum of all numpy array rows: \", ar6.sum(axis=1))\n",
    "print(\"Sum of all numpy array columns: \", ar6.sum(axis=0))"
   ]
  },
  {
   "cell_type": "markdown",
   "id": "59271331",
   "metadata": {},
   "source": [
    "### Q7"
   ]
  },
  {
   "cell_type": "code",
   "execution_count": 120,
   "id": "6a127b7b",
   "metadata": {},
   "outputs": [
    {
     "name": "stdout",
     "output_type": "stream",
     "text": [
      "Original array:\n",
      "[[ 0  1  2]\n",
      " [ 3  4  5]\n",
      " [ 6  7  8]\n",
      " [ 9 10 11]]\n",
      "\n",
      "After loading:\n",
      "[[ 0.  1.  2.]\n",
      " [ 3.  4.  5.]\n",
      " [ 6.  7.  8.]\n",
      " [ 9. 10. 11.]]\n"
     ]
    }
   ],
   "source": [
    "import os\n",
    "x = np.arange(12).reshape(4, 3)\n",
    "print(\"Original array:\")\n",
    "print(x)\n",
    "\n",
    "np.savetxt('array_file.txt', x, fmt=\"%d\") \n",
    "print(\"\\nAfter loading:\")\n",
    "result = np.loadtxt('array_file.txt')\n",
    "print(result)"
   ]
  },
  {
   "cell_type": "markdown",
   "id": "ba56d04c",
   "metadata": {},
   "source": [
    "### Q8"
   ]
  },
  {
   "cell_type": "code",
   "execution_count": 124,
   "id": "c54eab7f",
   "metadata": {},
   "outputs": [
    {
     "name": "stdout",
     "output_type": "stream",
     "text": [
      "Original arrays:\n",
      "[1 2 3 5 7]\n",
      "[2 3 4 5 6]\n",
      "\n",
      "Two arrays are equal (element wise) or not : [False False False  True False]\n"
     ]
    }
   ],
   "source": [
    "print(\"Original arrays:\")\n",
    "print(ar1)\n",
    "print(ar2)\n",
    "print(\"\\nTwo arrays are equal (element wise) or not :\", np.equal(ar1, ar2))"
   ]
  },
  {
   "cell_type": "markdown",
   "id": "6e0ddc72",
   "metadata": {},
   "source": [
    "### Q9|"
   ]
  },
  {
   "cell_type": "code",
   "execution_count": 116,
   "id": "5838ca25",
   "metadata": {},
   "outputs": [
    {
     "name": "stdout",
     "output_type": "stream",
     "text": [
      "Array: \n",
      " [[73 28 51]\n",
      " [68 80 47]\n",
      " [79 67 95]\n",
      " [31 78 70]]\n",
      "\n",
      "After swapping: \n",
      " [[31 78 70]\n",
      " [68 80 47]\n",
      " [79 67 95]\n",
      " [73 28 51]]\n"
     ]
    }
   ],
   "source": [
    "ar7 = (np.random.rand(12)*100).reshape(4,3).astype(\"int64\")\n",
    "print(\"Array: \\n\", ar7)\n",
    "ar7[[0,3]] = ar7[[3,0]]\n",
    "print(\"\\nAfter swapping: \\n\", ar7)"
   ]
  },
  {
   "cell_type": "markdown",
   "id": "cd114f61",
   "metadata": {},
   "source": [
    "### Q10"
   ]
  },
  {
   "cell_type": "code",
   "execution_count": 131,
   "id": "9c9d6d50",
   "metadata": {},
   "outputs": [
    {
     "name": "stdout",
     "output_type": "stream",
     "text": [
      " [[9 8]\n",
      " [2 0]] \n",
      "x\n",
      " [[5 6]\n",
      " [9 3]] \n",
      " = \n",
      " [[45 48]\n",
      " [18  0]]\n"
     ]
    }
   ],
   "source": [
    "a1=np.random.randint(10,size=(4)).reshape(2,2)\n",
    "a2=np.random.randint(10,size=(4)).reshape(2,2)\n",
    "print(\"\",a1,\"\\nx\\n\",a2,\"\\n = \\n\", np.multiply(a1,a2))"
   ]
  },
  {
   "cell_type": "code",
   "execution_count": null,
   "id": "a77e277b",
   "metadata": {},
   "outputs": [],
   "source": []
  }
 ],
 "metadata": {
  "kernelspec": {
   "display_name": "Python 3 (ipykernel)",
   "language": "python",
   "name": "python3"
  },
  "language_info": {
   "codemirror_mode": {
    "name": "ipython",
    "version": 3
   },
   "file_extension": ".py",
   "mimetype": "text/x-python",
   "name": "python",
   "nbconvert_exporter": "python",
   "pygments_lexer": "ipython3",
   "version": "3.9.7"
  }
 },
 "nbformat": 4,
 "nbformat_minor": 5
}
