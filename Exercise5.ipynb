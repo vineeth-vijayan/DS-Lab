{
 "cells": [
  {
   "cell_type": "code",
   "execution_count": 12,
   "id": "3520a1b7",
   "metadata": {},
   "outputs": [
    {
     "name": "stdout",
     "output_type": "stream",
     "text": [
      "['sepal length (cm)', 'sepal width (cm)', 'petal length (cm)', 'petal width (cm)']\n",
      "['setosa' 'versicolor' 'virginica']\n"
     ]
    }
   ],
   "source": [
    "from sklearn.datasets import load_iris\n",
    "from sklearn.model_selection import train_test_split\n",
    "from sklearn.neighbors import KNeighborsClassifier\n",
    "from sklearn import metrics\n",
    "iris=load_iris()\n",
    "x=iris.data\n",
    "y=iris.target\n",
    "features=iris.feature_names\n",
    "targets=iris.target_names\n",
    "print(features)\n",
    "print(targets)"
   ]
  },
  {
   "cell_type": "code",
   "execution_count": 11,
   "id": "3a592f5b",
   "metadata": {},
   "outputs": [
    {
     "name": "stdout",
     "output_type": "stream",
     "text": [
      "Accuracy of the Model: 0.9777777777777777\n",
      "Prediction: ['virginica']\n"
     ]
    }
   ],
   "source": [
    "from sklearn.datasets import load_iris\n",
    "from sklearn.model_selection import train_test_split\n",
    "from sklearn.neighbors import KNeighborsClassifier\n",
    "from sklearn import metrics\n",
    "iris=load_iris()\n",
    "x=iris.data\n",
    "y=iris.target\n",
    "x_train,x_test,y_train,y_test=train_test_split(x,y,test_size=0.3,random_state=1)\n",
    "\n",
    "classifier_knn=KNeighborsClassifier(n_neighbors=3)\n",
    "classifier_knn.fit(x_train,y_train)\n",
    "y_pred=classifier_knn.predict(x_test)\n",
    "print(\"Accuracy of the Model:\",metrics.accuracy_score(y_test,y_pred))\n",
    "\n",
    "sample=[[7,8,2,6]]\n",
    "predicted_class=classifier_knn.predict(sample)\n",
    "prediction=[iris.target_names[i] for i in predicted_class]\n",
    "print(\"Prediction:\",prediction)\n"
   ]
  }
 ],
 "metadata": {
  "kernelspec": {
   "display_name": "Python 3 (ipykernel)",
   "language": "python",
   "name": "python3"
  },
  "language_info": {
   "codemirror_mode": {
    "name": "ipython",
    "version": 3
   },
   "file_extension": ".py",
   "mimetype": "text/x-python",
   "name": "python",
   "nbconvert_exporter": "python",
   "pygments_lexer": "ipython3",
   "version": "3.9.7"
  }
 },
 "nbformat": 4,
 "nbformat_minor": 5
}
