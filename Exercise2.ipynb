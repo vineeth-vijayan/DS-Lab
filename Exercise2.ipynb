{
 "cells": [
  {
   "cell_type": "code",
   "execution_count": 1,
   "id": "4bc6e724",
   "metadata": {},
   "outputs": [],
   "source": [
    "import numpy as np"
   ]
  },
  {
   "cell_type": "raw",
   "id": "fb44dee4",
   "metadata": {},
   "source": [
    "Write Python programtocreate two matrices (read values from user) and find the following\n",
    "1. Dot Product\n",
    "2. Transpose\n",
    "3. Trace\n",
    "4. Rank\n",
    "5. Determinant\n",
    "6. Inverse\n",
    "7. Eigen values and eigen vectors"
   ]
  },
  {
   "cell_type": "code",
   "execution_count": 14,
   "id": "841e446e",
   "metadata": {},
   "outputs": [
    {
     "name": "stdout",
     "output_type": "stream",
     "text": [
      "Enter number of rows: 2\n",
      "Enter number of columns: 2\n",
      "Matrix1:\n",
      "1 1\n",
      "1\n",
      "Enter  2  space seperated elements: \n",
      "1 1\n",
      "Matrix2:\n",
      "1 3\n",
      "1 \n",
      "Enter  2  space seperated elements: \n",
      "3 4\n"
     ]
    }
   ],
   "source": [
    "rows, columns = 0, 0\n",
    "rows = int(input(\"Enter number of rows: \"))\n",
    "columns = int(input(\"Enter number of columns: \"))\n",
    "\n",
    "# Read two matrices\n",
    "print(\"Matrix1:\")\n",
    "ar = []\n",
    "i=0\n",
    "while i < rows:\n",
    "    tmp = list(map(int, input().split()))\n",
    "    if(columns == len(tmp)):\n",
    "        ar.append(tmp)\n",
    "        i+=1\n",
    "    else: \n",
    "        print(\"\\tEnter \", columns,\" space seperated elements: \")\n",
    "mat1 = np.array(ar)\n",
    "\n",
    "print(\"Matrix2:\")\n",
    "ar = []\n",
    "i=0\n",
    "while i < rows:\n",
    "    tmp = list(map(int, input().split()))\n",
    "    if(columns == len(tmp)):\n",
    "        ar.append(tmp)\n",
    "        i+=1\n",
    "    else: \n",
    "        print(\"\\tEnter \", columns,\" space seperated elements: \")\n",
    "mat2 = np.array(ar)\n"
   ]
  },
  {
   "cell_type": "markdown",
   "id": "04b9cc4a",
   "metadata": {},
   "source": [
    "## 1"
   ]
  },
  {
   "cell_type": "code",
   "execution_count": 18,
   "id": "bbb1dcb6",
   "metadata": {},
   "outputs": [
    {
     "name": "stdout",
     "output_type": "stream",
     "text": [
      "Dot product: \n",
      " [[4 7]\n",
      " [4 7]]\n"
     ]
    }
   ],
   "source": [
    "print(\"Dot product: \\n\", np.dot(mat1, mat2))"
   ]
  },
  {
   "cell_type": "markdown",
   "id": "7f339d78",
   "metadata": {},
   "source": [
    "## 2"
   ]
  },
  {
   "cell_type": "code",
   "execution_count": 29,
   "id": "85dc6f9d",
   "metadata": {},
   "outputs": [
    {
     "name": "stdout",
     "output_type": "stream",
     "text": [
      "Transpose of matrix1: \n",
      " [[1 1]\n",
      " [1 1]]\n",
      "Transpose of matrix2: \n",
      " [[1 3]\n",
      " [3 4]]\n"
     ]
    }
   ],
   "source": [
    "print(\"Transpose of matrix1: \\n\", np.transpose(mat1))\n",
    "print(\"Transpose of matrix2: \\n\", np.transpose(mat2))"
   ]
  },
  {
   "cell_type": "markdown",
   "id": "f546b0a5",
   "metadata": {},
   "source": [
    "## 3"
   ]
  },
  {
   "cell_type": "code",
   "execution_count": 28,
   "id": "3a58ac35",
   "metadata": {},
   "outputs": [
    {
     "name": "stdout",
     "output_type": "stream",
     "text": [
      "Trace of matrix1: \n",
      " 2\n",
      "Trace of matrix2: \n",
      " 5\n"
     ]
    }
   ],
   "source": [
    "print(\"Trace of matrix1: \\n\", np.trace(mat1))\n",
    "print(\"Trace of matrix2: \\n\", np.trace(mat2))"
   ]
  },
  {
   "cell_type": "markdown",
   "id": "29f3edd8",
   "metadata": {},
   "source": [
    "## 4"
   ]
  },
  {
   "cell_type": "code",
   "execution_count": 27,
   "id": "717b8d15",
   "metadata": {},
   "outputs": [
    {
     "name": "stdout",
     "output_type": "stream",
     "text": [
      "Matrix Rank of matrix1:  1\n",
      "Matrix Rank of matrix2:  2\n"
     ]
    }
   ],
   "source": [
    "from numpy.linalg import matrix_rank\n",
    "\n",
    "print(\"Matrix Rank of matrix1: \", matrix_rank(mat1))\n",
    "print(\"Matrix Rank of matrix2: \", matrix_rank(mat2))"
   ]
  },
  {
   "cell_type": "markdown",
   "id": "46dae1db",
   "metadata": {},
   "source": [
    "## 5"
   ]
  },
  {
   "cell_type": "code",
   "execution_count": 31,
   "id": "07df0622",
   "metadata": {},
   "outputs": [
    {
     "name": "stdout",
     "output_type": "stream",
     "text": [
      "Determinant of matrix1:  0.0\n",
      "Determinant of matrix2:  -5.000000000000001\n"
     ]
    }
   ],
   "source": [
    "from numpy.linalg import det\n",
    "\n",
    "print(\"Determinant of matrix1: \", det(mat1))\n",
    "print(\"Determinant of matrix2: \", det(mat2))"
   ]
  },
  {
   "cell_type": "markdown",
   "id": "8824911e",
   "metadata": {},
   "source": [
    "## 6"
   ]
  },
  {
   "cell_type": "code",
   "execution_count": 36,
   "id": "01ee79a0",
   "metadata": {},
   "outputs": [
    {
     "name": "stdout",
     "output_type": "stream",
     "text": [
      "Inverse of matrix2: \n",
      " [[-0.8  0.6]\n",
      " [ 0.6 -0.2]]\n"
     ]
    }
   ],
   "source": [
    "from numpy.linalg import inv\n",
    "\n",
    "print(\"Inverse of matrix2: \\n\", inv(mat2))"
   ]
  },
  {
   "cell_type": "markdown",
   "id": "e11ec5a4",
   "metadata": {},
   "source": [
    "## 7"
   ]
  },
  {
   "cell_type": "code",
   "execution_count": 37,
   "id": "b01a6eda",
   "metadata": {},
   "outputs": [
    {
     "name": "stdout",
     "output_type": "stream",
     "text": [
      "Eigen Values of matrix1:  [2. 0.]\n",
      "Eigen Vectors of matrix1:  [[ 0.70710678 -0.70710678]\n",
      " [ 0.70710678  0.70710678]]\n",
      "Eigen Values of matrix2:  [-0.85410197  5.85410197]\n",
      "Eigen Vectors of matrix2:  [[-0.85065081 -0.52573111]\n",
      " [ 0.52573111 -0.85065081]]\n"
     ]
    }
   ],
   "source": [
    "from numpy.linalg import eig\n",
    "\n",
    "w, v = eig(mat1)\n",
    "print(\"Eigen Values of matrix1: \\n\", w)\n",
    "print(\"Eigen Vectors of matrix1: \\n\", v)\n",
    "\n",
    "w, v = eig(mat2)\n",
    "print(\"Eigen Values of matrix2: \\n\", w)\n",
    "print(\"Eigen Vectors of matrix2: \\n\", v)"
   ]
  },
  {
   "cell_type": "code",
   "execution_count": null,
   "id": "61bba033",
   "metadata": {},
   "outputs": [],
   "source": []
  }
 ],
 "metadata": {
  "kernelspec": {
   "display_name": "Python 3 (ipykernel)",
   "language": "python",
   "name": "python3"
  },
  "language_info": {
   "codemirror_mode": {
    "name": "ipython",
    "version": 3
   },
   "file_extension": ".py",
   "mimetype": "text/x-python",
   "name": "python",
   "nbconvert_exporter": "python",
   "pygments_lexer": "ipython3",
   "version": "3.9.7"
  }
 },
 "nbformat": 4,
 "nbformat_minor": 5
}
